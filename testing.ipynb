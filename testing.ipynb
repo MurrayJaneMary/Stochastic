{
 "cells": [
  {
   "cell_type": "code",
   "execution_count": 1,
   "id": "9bf9db29",
   "metadata": {},
   "outputs": [],
   "source": [
    "using Plots\n",
    "using Distributions\n",
    "using StatsBase\n",
    "using DelimitedFiles"
   ]
  },
  {
   "cell_type": "code",
   "execution_count": 13,
   "id": "542e1c07",
   "metadata": {},
   "outputs": [
    {
     "name": "stdout",
     "output_type": "stream",
     "text": [
      "2\n",
      "3\n",
      "4\n",
      "5\n",
      "6\n",
      "7\n",
      "8\n",
      "9\n",
      "10\n"
     ]
    }
   ],
   "source": [
    "j=2\n",
    "for i = j : 10\n",
    "    println(j)\n",
    "    j+=1;\n",
    "\n",
    "end"
   ]
  },
  {
   "cell_type": "code",
   "execution_count": 15,
   "id": "9f3cfa44",
   "metadata": {},
   "outputs": [
    {
     "name": "stdout",
     "output_type": "stream",
     "text": [
      "here i is 0\n",
      "here j is 0\n",
      "here here j is 1\n",
      "here here here j is 2\n",
      "here i is 1\n",
      "here j is 2\n",
      "here here j is 3\n",
      "here here here j is 4\n",
      "here i is 2\n",
      "here j is 4\n",
      "here here j is 5\n",
      "here here here j is 6\n",
      "here i is 3\n",
      "here j is 6\n",
      "here here j is 7\n",
      "here here here j is 8\n",
      "here i is 4\n",
      "here j is 8\n",
      "here here j is 9\n",
      "here here here j is 10\n",
      "here i is 5\n",
      "here j is 10\n",
      "here here j is 11\n",
      "here here here j is 12\n",
      "here i is 6\n",
      "here j is 12\n",
      "here here j is 13\n",
      "here here here j is 14\n",
      "here i is 7\n",
      "here j is 14\n",
      "here here j is 15\n",
      "here here here j is 16\n",
      "here i is 8\n",
      "here j is 16\n",
      "here here j is 17\n",
      "here here here j is 18\n",
      "here i is 9\n",
      "here j is 18\n",
      "here here j is 19\n",
      "here here here j is 20\n",
      "here i is 10\n",
      "here j is 20\n",
      "here here j is 21\n",
      "here here here j is 22\n"
     ]
    }
   ],
   "source": [
    "nevents = 10\n",
    "j=0\n",
    "for i = j : nevents # for i between j and nevents\n",
    "            println(\"here i is \", i)\n",
    "            println(\"here j is \", j)\n",
    "\n",
    "            j += 1;\n",
    "            println(\"here here j is \", j)\n",
    "\n",
    "\n",
    "            j+= 1;\n",
    "            println(\"here here here j is \", j)\n",
    "            \n",
    "\n",
    "end"
   ]
  },
  {
   "cell_type": "code",
   "execution_count": null,
   "id": "42e51f94",
   "metadata": {},
   "outputs": [],
   "source": []
  },
  {
   "cell_type": "code",
   "execution_count": null,
   "id": "d84768cb",
   "metadata": {},
   "outputs": [],
   "source": []
  }
 ],
 "metadata": {
  "kernelspec": {
   "display_name": "Julia 1.8.1",
   "language": "julia",
   "name": "julia-1.8"
  },
  "language_info": {
   "file_extension": ".jl",
   "mimetype": "application/julia",
   "name": "julia",
   "version": "1.8.1"
  }
 },
 "nbformat": 4,
 "nbformat_minor": 5
}
