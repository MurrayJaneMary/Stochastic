{
 "cells": [
  {
   "cell_type": "markdown",
   "metadata": {},
   "source": [
    "# Jupyter Notebook to demonstrate usage of BB18 giant Gaussian process models:\n",
    "\n",
    "## by Richard K. Bono (r.k.bono@liverpool.ac.uk)\n",
    "\n",
    "### Geomagnetism Laboratory, University of Liverpool, Liverpool, UK\n",
    "\n",
    "#### VERSION 1.2 (24 Aug 2020)\n",
    "\n",
    "The numpy package is required\n"
   ]
  },
  {
   "cell_type": "markdown",
   "metadata": {},
   "source": [
    "Coefficients given in microTesla"
   ]
  },
  {
   "cell_type": "code",
   "execution_count": 16,
   "metadata": {},
   "outputs": [],
   "source": [
    "import numpy as np\n",
    "from scipy.stats import pearsonr # to calculate correlation coefs"
   ]
  },
  {
   "cell_type": "code",
   "execution_count": 17,
   "metadata": {
    "scrolled": false
   },
   "outputs": [],
   "source": [
    "# module with bb18 code\n",
    "import draw_bb18 as bb"
   ]
  },
  {
   "cell_type": "code",
   "execution_count": 18,
   "metadata": {},
   "outputs": [],
   "source": [
    "ndraw = 1000 # number of realizations"
   ]
  },
  {
   "cell_type": "markdown",
   "metadata": {},
   "source": [
    "# Draw BB18 realizations\n",
    "Returns $[ k \\times n_{draw} ]$ shape numpy array, where k=120, the number of Gauss coefficients (up to degree 10) following the sequence:<br>\n",
    "\n",
    "0: $g_1^0$<br>\n",
    "1: $g_1^1$<br>\n",
    "2: $h_1^1$<br>\n",
    "3: $g_2^0$<br>\n",
    "...<br>\n",
    "118: $g_{10}^{10}$<br>\n",
    "119: $h_{10}^{10}$<br>"
   ]
  },
  {
   "cell_type": "code",
   "execution_count": 19,
   "metadata": {},
   "outputs": [],
   "source": [
    "# define select gauss coef positions\n",
    "gc = {'g10': 0, 'g11': 1, 'h11': 2, 'g20': 3, 'g21': 4, 'h21': 5, 'g22': 6, 'h22': 7, \n",
    "      'g30': 8, 'g31': 9, 'h31': 10, \n",
    "      'g40': 15, 'g41': 16, 'h41': 17, 'g42': 18, 'h42': 19 }"
   ]
  },
  {
   "cell_type": "markdown",
   "metadata": {},
   "source": [
    "### Draw BB18 model (GAD model) "
   ]
  },
  {
   "cell_type": "code",
   "execution_count": 20,
   "metadata": {},
   "outputs": [],
   "source": [
    "bb18 = bb.draw_bb18(ndraw,z3=False)\n",
    "# save out to file\n",
    "bb18_fname = 'bb18_draws4.csv'\n",
    "np.savetxt(bb18_fname,bb18)"
   ]
  },
  {
   "cell_type": "markdown",
   "metadata": {},
   "source": [
    "Confirm shape of numpy array"
   ]
  },
  {
   "cell_type": "code",
   "execution_count": 21,
   "metadata": {},
   "outputs": [
    {
     "name": "stdout",
     "output_type": "stream",
     "text": [
      "BB18 shape: (120, 1000)\n"
     ]
    }
   ],
   "source": [
    "print('BB18 shape: %s'%str(bb18.shape))"
   ]
  },
  {
   "cell_type": "markdown",
   "metadata": {},
   "source": [
    "Confirm $g_1^0$ is close to expected values ($\\mu$ = -22.04; $\\sigma$ = 10.8)"
   ]
  },
  {
   "cell_type": "code",
   "execution_count": 22,
   "metadata": {},
   "outputs": [
    {
     "name": "stdout",
     "output_type": "stream",
     "text": [
      "mean g10: -21.979\n",
      "sigma g10: 10.732\n"
     ]
    }
   ],
   "source": [
    "print('mean g10: %.3f'%np.mean(bb18[gc['g10'],:]))\n",
    "print('sigma g10: %.3f'%np.std(bb18[gc['g10'],:]))"
   ]
  },
  {
   "cell_type": "markdown",
   "metadata": {},
   "source": [
    "Define expected $\\sigma_{g_2^0}$ = $ \\sqrt{ \\frac {(0.547)^{2l} \\alpha^2} {(l+1)(2l+1)} } $ = 0.946\n",
    "\n",
    "Confirm $g_2^0$ is close to expected values ($\\mu$ = 0, $\\sigma$ = 0.946)"
   ]
  },
  {
   "cell_type": "code",
   "execution_count": 23,
   "metadata": {},
   "outputs": [
    {
     "name": "stdout",
     "output_type": "stream",
     "text": [
      "mean g20: -0.018\n",
      "sigma g20: 0.936\n"
     ]
    }
   ],
   "source": [
    "print('mean g20: %.3f'%np.mean(bb18[gc['g20'],:]))\n",
    "print('sigma g20: %.3f'%np.std(bb18[gc['g20'],:]))"
   ]
  },
  {
   "cell_type": "markdown",
   "metadata": {},
   "source": [
    "Define expected $\\sigma_{g_3^0}$ = $ \\sqrt{ \\frac {(0.547)^{2l} \\alpha^2} {(l+1)(2l+1)} } * \\beta $ = 1.068\n",
    "\n",
    "Confirm $g_3^0$ is close to expected values ($\\mu$ = 0, $\\sigma$ = 1.068)"
   ]
  },
  {
   "cell_type": "code",
   "execution_count": 24,
   "metadata": {},
   "outputs": [
    {
     "name": "stdout",
     "output_type": "stream",
     "text": [
      "mean g30: 0.000\n",
      "sigma g30: 1.055\n"
     ]
    }
   ],
   "source": [
    "print('mean g30: %.3f'%np.mean(bb18[gc['g30'],:]))\n",
    "print('sigma g30: %.3f'%np.std(bb18[gc['g30'],:]))"
   ]
  },
  {
   "cell_type": "markdown",
   "metadata": {},
   "source": [
    "Confirm correlation coefs match Table 3 (Bono et al.) - except for (g10,g30) due to the separate variance treatment"
   ]
  },
  {
   "cell_type": "code",
   "execution_count": 25,
   "metadata": {},
   "outputs": [
    {
     "name": "stdout",
     "output_type": "stream",
     "text": [
      "rho(g11,g31):  0.57 (expected: 0.55)\n",
      "rho(h11,h31):  0.51 (expected: 0.53)\n",
      "rho(g20,g40):  0.14 (expected: 0.14)\n",
      "rho(g21,g41):  0.60 (expected: 0.60)\n",
      "rho(h21,h41):  0.57 (expected: 0.58)\n",
      "rho(g22,g42):  0.45 (expected: 0.42)\n",
      "rho(h22,h42):  0.36 (expected: 0.37)\n"
     ]
    }
   ],
   "source": [
    "print('rho(g11,g31):  %.2f (expected: 0.55)'%pearsonr(bb18[gc['g11'],:],bb18[gc['g31'],:])[0])\n",
    "print('rho(h11,h31):  %.2f (expected: 0.53)'%pearsonr(bb18[gc['h11'],:],bb18[gc['h31'],:])[0])\n",
    "print('rho(g20,g40):  %.2f (expected: 0.14)'%pearsonr(bb18[gc['g20'],:],bb18[gc['g40'],:])[0])\n",
    "print('rho(g21,g41):  %.2f (expected: 0.60)'%pearsonr(bb18[gc['g21'],:],bb18[gc['g41'],:])[0])\n",
    "print('rho(h21,h41):  %.2f (expected: 0.58)'%pearsonr(bb18[gc['h21'],:],bb18[gc['h41'],:])[0])\n",
    "print('rho(g22,g42):  %.2f (expected: 0.42)'%pearsonr(bb18[gc['g22'],:],bb18[gc['g42'],:])[0])\n",
    "print('rho(h22,h42):  %.2f (expected: 0.37)'%pearsonr(bb18[gc['h22'],:],bb18[gc['h42'],:])[0])"
   ]
  },
  {
   "cell_type": "markdown",
   "metadata": {},
   "source": [
    "## BB18.Z3"
   ]
  },
  {
   "cell_type": "code",
   "execution_count": 11,
   "metadata": {
    "scrolled": false
   },
   "outputs": [],
   "source": [
    "bb18z3 = bb.draw_bb18(ndraw,z3=True)# save out to file\n",
    "bb18z3_fname = 'bb18z3_draws.csv'\n",
    "np.savetxt(bb18z3_fname,bb18z3)"
   ]
  },
  {
   "cell_type": "markdown",
   "metadata": {},
   "source": [
    "Confirm shape of array"
   ]
  },
  {
   "cell_type": "code",
   "execution_count": 12,
   "metadata": {},
   "outputs": [
    {
     "name": "stdout",
     "output_type": "stream",
     "text": [
      "BB18.Z3 shape: (120, 1000)\n"
     ]
    }
   ],
   "source": [
    "print('BB18.Z3 shape: %s'%str(bb18z3.shape))"
   ]
  },
  {
   "cell_type": "markdown",
   "metadata": {},
   "source": [
    "Confirm $g_1^0$ is close to expected values ($\\mu$ = -22.04; $\\sigma$ = 10.74)"
   ]
  },
  {
   "cell_type": "code",
   "execution_count": 13,
   "metadata": {},
   "outputs": [
    {
     "name": "stdout",
     "output_type": "stream",
     "text": [
      "mean g10: -21.911\n",
      "sigma g10: 10.882\n"
     ]
    }
   ],
   "source": [
    "print('mean g10: %.3f'%np.mean(bb18z3[0,:]))\n",
    "print('sigma g10: %.3f'%np.std(bb18z3[0,:]))"
   ]
  },
  {
   "cell_type": "markdown",
   "metadata": {},
   "source": [
    "Confirm $g_2^0$ is close to expected values ($\\mu$ = -0.65, $\\sigma$ = 0.946)"
   ]
  },
  {
   "cell_type": "code",
   "execution_count": 14,
   "metadata": {},
   "outputs": [
    {
     "name": "stdout",
     "output_type": "stream",
     "text": [
      "mean g20: -0.669\n",
      "sigma g20: 0.941\n"
     ]
    }
   ],
   "source": [
    "print('mean g20: %.3f'%np.mean(bb18z3[3,:]))\n",
    "print('sigma g20: %.3f'%np.std(bb18z3[3,:]))"
   ]
  },
  {
   "cell_type": "markdown",
   "metadata": {},
   "source": [
    "Confirm $g_3^0$ is close to expected values ($\\mu$ = 0.29, $\\sigma$ = 1.068)"
   ]
  },
  {
   "cell_type": "code",
   "execution_count": 15,
   "metadata": {},
   "outputs": [
    {
     "name": "stdout",
     "output_type": "stream",
     "text": [
      "mean g30: 0.296\n",
      "sigma g30: 1.048\n"
     ]
    }
   ],
   "source": [
    "print('mean g30: %.3f'%np.mean(bb18z3[8,:]))\n",
    "print('sigma g30: %.3f'%np.std(bb18z3[8,:]))"
   ]
  },
  {
   "cell_type": "code",
   "execution_count": null,
   "metadata": {},
   "outputs": [],
   "source": []
  },
  {
   "cell_type": "code",
   "execution_count": null,
   "metadata": {},
   "outputs": [],
   "source": []
  },
  {
   "cell_type": "code",
   "execution_count": null,
   "metadata": {},
   "outputs": [],
   "source": []
  }
 ],
 "metadata": {
  "kernelspec": {
   "display_name": "Python 3 (ipykernel)",
   "language": "python",
   "name": "python3"
  },
  "language_info": {
   "codemirror_mode": {
    "name": "ipython",
    "version": 3
   },
   "file_extension": ".py",
   "mimetype": "text/x-python",
   "name": "python",
   "nbconvert_exporter": "python",
   "pygments_lexer": "ipython3",
   "version": "3.10.8"
  }
 },
 "nbformat": 4,
 "nbformat_minor": 2
}
