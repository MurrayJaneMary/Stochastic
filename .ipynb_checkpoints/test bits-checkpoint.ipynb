{
 "cells": [
  {
   "cell_type": "code",
   "execution_count": 1,
   "id": "7ada8767",
   "metadata": {},
   "outputs": [
    {
     "ename": "SyntaxError",
     "evalue": "invalid syntax (Temp/ipykernel_16716/2783101361.py, line 2)",
     "output_type": "error",
     "traceback": [
      "\u001b[1;36m  File \u001b[1;32m\"C:\\Users\\murray98\\AppData\\Local\\Temp/ipykernel_16716/2783101361.py\"\u001b[1;36m, line \u001b[1;32m2\u001b[0m\n\u001b[1;33m    for b in range(0,5)\u001b[0m\n\u001b[1;37m                       ^\u001b[0m\n\u001b[1;31mSyntaxError\u001b[0m\u001b[1;31m:\u001b[0m invalid syntax\n"
     ]
    }
   ],
   "source": [
    "for a in range(0,10):\n",
    "    for b in range(0,5):\n",
    "        print(\"a\", a)\n",
    "        print(\"b\", b)\n",
    "    print(\"a\", a)\n",
    "    print(\"b\", b)\n",
    "print(\"a\", a)\n",
    "print(\"b\", b)\n"
   ]
  },
  {
   "cell_type": "code",
   "execution_count": null,
   "id": "5da09bf5",
   "metadata": {},
   "outputs": [],
   "source": []
  }
 ],
 "metadata": {
  "kernelspec": {
   "display_name": "Python 3 (ipykernel)",
   "language": "python",
   "name": "python3"
  },
  "language_info": {
   "codemirror_mode": {
    "name": "ipython",
    "version": 3
   },
   "file_extension": ".py",
   "mimetype": "text/x-python",
   "name": "python",
   "nbconvert_exporter": "python",
   "pygments_lexer": "ipython3",
   "version": "3.9.7"
  }
 },
 "nbformat": 4,
 "nbformat_minor": 5
}
